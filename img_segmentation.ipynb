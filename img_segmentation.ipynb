{
 "cells": [
  {
   "cell_type": "code",
   "execution_count": null,
   "id": "9c3f8c77-c4ad-40ac-95f9-252b19594fe1",
   "metadata": {},
   "outputs": [],
   "source": [
    "# Common\n",
    "import tensorflow as tf\n",
    "from glob import glob\n",
    "import numpy as np\n",
    "\n",
    "# Data\n",
    "from sklearn.model_selection import train_test_split\n",
    "import cv2\n",
    "\n",
    "# Data visualization\n",
    "import matplotlib.pyplot as plt\n",
    "\n",
    "# Model\n",
    "from keras.models import Model\n",
    "from keras.layers import Input, Conv2D, MaxPooling2D, Conv2DTranspose, concatenate\n",
    "from keras.optimizers import Adam\n",
    "from tensorflow.keras.utils import plot_model\n",
    "\n",
    "# Metrics\n",
    "from tensorflow.keras.metrics import *"
   ]
  },
  {
   "cell_type": "code",
   "execution_count": null,
   "id": "031455d7-49b9-4152-9365-e7311726f08e",
   "metadata": {},
   "outputs": [],
   "source": [
    "paths = glob('archive/Dataset_BUSI_with_GT/*/*')\n",
    "\n",
    "print(f'\\033[92m')\n",
    "print(f\"'normal' class has {len([i for i in paths if 'normal' in i and 'mask' not in i])} images and {len([i for i in paths if 'normal' in i and 'mask' in i])} masks.\")\n",
    "print(f\"'benign' class has {len([i for i in paths if 'benign' in i and 'mask' not in i])} images and {len([i for i in paths if 'benign' in i and 'mask' in i])} masks.\")\n",
    "print(f\"'malignant' class has {len([i for i in paths if 'malignant' in i and 'mask' not in i])} images and {len([i for i in paths if 'malignant' in i and 'mask' in i])} masks.\")\n",
    "print(f\"\\nThere are total of {len([i for i in paths if 'mask' not in i])} images and {len([i for i in paths if 'mask' in i])} masks.\")"
   ]
  },
  {
   "cell_type": "code",
   "execution_count": null,
   "id": "a48b7e44-c21f-4283-9b58-7ec0af48bb7e",
   "metadata": {},
   "outputs": [],
   "source": [
    "sorted(glob('archive/Dataset_BUSI_with_GT/*/*'))[4:7]"
   ]
  },
  {
   "cell_type": "code",
   "execution_count": null,
   "id": "11ee9886-21f4-4b2f-9d13-1212facb0cc3",
   "metadata": {},
   "outputs": [],
   "source": [
    "def load_image(path, size):\n",
    "    image = cv2.imread(path)\n",
    "    image = cv2.resize(image, (size,size))\n",
    "    image = cv2.cvtColor(image, cv2.COLOR_RGB2GRAY)   # shape: (size,size,3) -> (size,size,1)\n",
    "    image = image/255.   # normalize\n",
    "    return image\n",
    "\n",
    "def load_data(root_path, size):\n",
    "    images = []\n",
    "    masks = []\n",
    "    \n",
    "    x = 0   # additional variable to identify images consisting of 2 or more masks\n",
    "    \n",
    "    for path in sorted(glob(root_path)):\n",
    "        img = load_image(path, size)   # read mask or image\n",
    "            \n",
    "        if 'mask' in path:\n",
    "            if x:   # this image has masks more than one\n",
    "                masks[-1] += img   # add the mask to the last mask\n",
    "                    \n",
    "                # When 2 masks are added, the range can increase by 0-2. So we will reduce it again to the range 0-1.\n",
    "                masks[-1] = np.array(masks[-1]>0.5, dtype='float64')\n",
    "            else:\n",
    "                masks.append(img)\n",
    "                x = 1   # if the image has a mask again, the above code will run next time\n",
    "        else:\n",
    "            images.append(img)\n",
    "            x = 0   # for moving to the next image\n",
    "    return np.array(images), np.array(masks)"
   ]
  },
  {
   "cell_type": "code",
   "execution_count": null,
   "id": "b86be4a3-a32f-407e-acf3-ea4153f93fa8",
   "metadata": {},
   "outputs": [],
   "source": [
    "size = 128   # image size: 128x128\n",
    "X, y = load_data('archive/Dataset_BUSI_with_GT/*/*', size)\n"
   ]
  },
  {
   "cell_type": "code",
   "execution_count": null,
   "id": "18463275-5b6b-4045-855a-c75c64984daa",
   "metadata": {},
   "outputs": [],
   "source": [
    "fig, ax = plt.subplots(1,3, figsize=(10,5))\n",
    "\n",
    "# X[0:437] benign\n",
    "# X[437:647] malignant\n",
    "# X[647:780] normal\n",
    "\n",
    "i = np.random.randint(647,780)\n",
    "ax[0].imshow(X[i], cmap='gray')\n",
    "ax[0].set_title('Image')\n",
    "ax[1].imshow(y[i], cmap='gray')\n",
    "ax[1].set_title('Mask')\n",
    "ax[2].imshow(X[i], cmap='gray')\n",
    "ax[2].imshow(tf.squeeze(y[i]), alpha=0.5, cmap='jet')\n",
    "ax[2].set_title('Union')\n",
    "fig.suptitle('Normal class', fontsize=16)\n",
    "plt.show()"
   ]
  },
  {
   "cell_type": "code",
   "execution_count": null,
   "id": "6271df33-4177-4ac8-9ce0-c153b12a9478",
   "metadata": {},
   "outputs": [],
   "source": [
    "fig, ax = plt.subplots(1,3, figsize=(10,5))\n",
    "\n",
    "i = np.random.randint(437)\n",
    "ax[0].imshow(X[i], cmap='gray')\n",
    "ax[0].set_title('Image')\n",
    "ax[1].imshow(y[i], cmap='gray')\n",
    "ax[1].set_title('Mask')\n",
    "ax[2].imshow(X[i], cmap='gray')\n",
    "ax[2].imshow(tf.squeeze(y[i]), alpha=0.5, cmap='jet')\n",
    "ax[2].set_title('Union')\n",
    "fig.suptitle('Benign class', fontsize=16)\n",
    "plt.show()"
   ]
  },
  {
   "cell_type": "code",
   "execution_count": null,
   "id": "1b03f45e-8f71-447d-ba32-3f6f69180526",
   "metadata": {},
   "outputs": [],
   "source": [
    "fig, ax = plt.subplots(1,3, figsize=(10,5))\n",
    "\n",
    "i = np.random.randint(437,647)\n",
    "ax[0].imshow(X[i], cmap='gray')\n",
    "ax[0].set_title('Image')\n",
    "ax[1].imshow(y[i], cmap='gray')\n",
    "ax[1].set_title('Mask')\n",
    "ax[2].imshow(X[i], cmap='gray')\n",
    "ax[2].imshow(tf.squeeze(y[i]), alpha=0.5, cmap='jet')\n",
    "ax[2].set_title('Union')\n",
    "fig.suptitle('Malignant class', fontsize=16)\n",
    "plt.show()"
   ]
  },
  {
   "cell_type": "code",
   "execution_count": null,
   "id": "852cbc0e-a8b4-426a-8950-4a4fe455cc51",
   "metadata": {},
   "outputs": [],
   "source": [
    "fig, ax = plt.subplots(1,3, figsize=(10,5))\n",
    "\n",
    "ax[0].imshow(sum(y[647:]), cmap='gray')\n",
    "ax[0].set_title('Normal')\n",
    "ax[1].imshow(sum(y[:437]), cmap='gray')\n",
    "ax[1].set_title('Benign')\n",
    "ax[2].imshow(sum(y[437:647]), cmap='gray')\n",
    "ax[2].set_title('Malignant')\n",
    "plt.show()"
   ]
  },
  {
   "cell_type": "code",
   "execution_count": null,
   "id": "c0e0f892-c4a0-4ba2-9200-d1e584742ed0",
   "metadata": {},
   "outputs": [],
   "source": [
    "# drop normal class because normal class has not mask\n",
    "X = X[:647]\n",
    "y = y[:647]\n",
    "\n",
    "print(f\"X shape: {X.shape}     |  y shape: {y.shape}\")\n",
    "\n",
    "# prepare data to modeling\n",
    "X = np.expand_dims(X, -1)\n",
    "y = np.expand_dims(y, -1)\n",
    "\n",
    "print(f\"\\nX shape: {X.shape}  |  y shape: {y.shape}\")"
   ]
  },
  {
   "cell_type": "code",
   "execution_count": null,
   "id": "074f0525-0bd1-493a-9b83-70dd14b01b36",
   "metadata": {},
   "outputs": [],
   "source": [
    "X_train, X_test, y_train, y_test = train_test_split(X, y, test_size=0.1)\n",
    "\n",
    "print(f'\\033[92m')\n",
    "print('X_train shape:',X_train.shape)\n",
    "print('y_train shape:',y_train.shape)\n",
    "print('X_test shape:',X_test.shape)\n",
    "print('y_test shape:',y_test.shape)"
   ]
  },
  {
   "cell_type": "code",
   "execution_count": null,
   "id": "fa4b4a7a-5ca7-41fd-87fc-ee8a214f86ee",
   "metadata": {},
   "outputs": [],
   "source": [
    "def conv_block(input, num_filters):\n",
    "    conv = Conv2D(num_filters, (3, 3), activation=\"relu\", padding=\"same\", kernel_initializer='he_normal')(input)\n",
    "    conv = Conv2D(num_filters, (3, 3), activation=\"relu\", padding=\"same\", kernel_initializer='he_normal')(conv)\n",
    "    return conv"
   ]
  },
  {
   "cell_type": "code",
   "execution_count": null,
   "id": "d0d8f37d-21da-4fb0-83b4-813cc5f635a1",
   "metadata": {},
   "outputs": [],
   "source": [
    "def encoder_block(input, num_filters):\n",
    "    conv = conv_block(input, num_filters)\n",
    "    pool = MaxPooling2D((2, 2))(conv)\n",
    "    return conv, pool"
   ]
  },
  {
   "cell_type": "code",
   "execution_count": null,
   "id": "2696bab9-1a36-4b01-893c-6490f78a5822",
   "metadata": {},
   "outputs": [],
   "source": [
    "def decoder_block(input, skip_features, num_filters):\n",
    "    uconv = Conv2DTranspose(num_filters, (2, 2), strides=2, padding=\"same\")(input)\n",
    "    con = concatenate([uconv, skip_features])\n",
    "    conv = conv_block(con, num_filters)\n",
    "    return conv"
   ]
  },
  {
   "cell_type": "code",
   "execution_count": null,
   "id": "6046eaf6-11e9-4531-bea4-5d0cc5e149a0",
   "metadata": {},
   "outputs": [],
   "source": [
    "def build_model(input_shape):\n",
    "    input_layer = Input(input_shape)\n",
    "    \n",
    "    s1, p1 = encoder_block(input_layer, 64)\n",
    "    s2, p2 = encoder_block(p1, 128)\n",
    "    s3, p3 = encoder_block(p2, 256)\n",
    "    s4, p4 = encoder_block(p3, 512)\n",
    "\n",
    "    b1 = conv_block(p4, 1024)\n",
    "\n",
    "    d1 = decoder_block(b1, s4, 512)\n",
    "    d2 = decoder_block(d1, s3, 256)\n",
    "    d3 = decoder_block(d2, s2, 128)\n",
    "    d4 = decoder_block(d3, s1, 64)\n",
    "    \n",
    "    output_layer = Conv2D(1, 1, padding=\"same\", activation=\"sigmoid\")(d4)\n",
    "    \n",
    "    model = Model(input_layer, output_layer, name=\"U-Net\")\n",
    "    return model\n",
    "\n",
    "model = build_model(input_shape=(size, size, 1))\n",
    "model.compile(loss=\"binary_crossentropy\", optimizer=\"Adam\", metrics=[\"accuracy\"])"
   ]
  },
  {
   "cell_type": "code",
   "execution_count": null,
   "id": "1a10a456-d0aa-48ad-ae97-fa07fbc76243",
   "metadata": {},
   "outputs": [],
   "source": [
    "!pip install graphviz\n",
    "\n"
   ]
  },
  {
   "cell_type": "code",
   "execution_count": null,
   "id": "8af444af-abe7-48bd-a64e-1702a150ca66",
   "metadata": {
    "scrolled": true
   },
   "outputs": [],
   "source": [
    "import pydot\n",
    "print(plot_model(model, show_shapes=True))\n",
    "\n"
   ]
  },
  {
   "cell_type": "code",
   "execution_count": null,
   "id": "d21ad0dc-a22b-4677-b73d-f0732eeff33a",
   "metadata": {},
   "outputs": [],
   "source": [
    "import pydot\n",
    "plot_model(model, show_shapes=True)\n"
   ]
  },
  {
   "cell_type": "code",
   "execution_count": null,
   "id": "198c1233-24f8-4095-bfc0-a5a2c9a72916",
   "metadata": {
    "scrolled": true
   },
   "outputs": [],
   "source": [
    "model.summary()"
   ]
  },
  {
   "cell_type": "code",
   "execution_count": null,
   "id": "0a378ee1-c6d2-4490-9a7b-1f842e89861f",
   "metadata": {
    "scrolled": true
   },
   "outputs": [],
   "source": [
    "history = model.fit(X_train, y_train, epochs = 100, validation_data = (X_test,y_test))\n"
   ]
  },
  {
   "cell_type": "code",
   "execution_count": null,
   "id": "375ab0a9-f14b-402b-b9eb-08cc0beda72b",
   "metadata": {},
   "outputs": [],
   "source": [
    "fig, ax = plt.subplots(5,3, figsize=(10,18))\n",
    "\n",
    "j = np.random.randint(0, X_test.shape[0], 5)\n",
    "for i in range(5):\n",
    "    ax[i,0].imshow(X_test[j[i]], cmap='gray')\n",
    "    ax[i,0].set_title('Image')\n",
    "    ax[i,1].imshow(y_test[j[i]], cmap='gray')\n",
    "    ax[i,1].set_title('Mask')\n",
    "    ax[i,2].imshow(model.predict(np.expand_dims(X_test[j[i]],0),verbose=0)[0], cmap='gray')\n",
    "    ax[i,2].set_title('Prediction')\n",
    "fig.suptitle('Results', fontsize=16)\n",
    "plt.show()"
   ]
  },
  {
   "cell_type": "code",
   "execution_count": null,
   "id": "ae76a8f5-e2b1-40ed-bea8-a4e0566b9d36",
   "metadata": {},
   "outputs": [],
   "source": [
    "print(f'\\033[93m')\n",
    "y_pred=model.predict(X_test,verbose=0)\n",
    "y_pred_thresholded = y_pred > 0.5\n",
    "\n",
    "# mean Intersection-Over-Union metric\n",
    "IOU_keras = MeanIoU(num_classes=2)\n",
    "IOU_keras.update_state(y_pred_thresholded, y_test)\n",
    "print(\"Mean IoU =\", IOU_keras.result().numpy())\n",
    "\n",
    "prec_score = Precision()\n",
    "prec_score.update_state(y_pred_thresholded, y_test)\n",
    "p = prec_score.result().numpy()\n",
    "print('Precision Score = %.3f' % p)\n",
    "\n",
    "recall_score = Recall()\n",
    "recall_score.update_state(y_pred_thresholded, y_test)\n",
    "r = recall_score.result().numpy()\n",
    "print('Recall Score = %.3f' % r)\n",
    "\n",
    "f1_score = 2*(p*r)/(p+r)\n",
    "print('F1 Score = %.3f' % f1_score)"
   ]
  },
  {
   "cell_type": "code",
   "execution_count": null,
   "id": "3e0321d4-1cfc-4ae4-9a7f-7594b386eb3a",
   "metadata": {},
   "outputs": [],
   "source": []
  },
  {
   "cell_type": "code",
   "execution_count": null,
   "id": "ead39ea6-5c3d-4ce2-bb7c-ba7d816b5578",
   "metadata": {},
   "outputs": [],
   "source": []
  },
  {
   "cell_type": "code",
   "execution_count": null,
   "id": "54a0cee6-5f27-4163-b740-d6a6f19ffd28",
   "metadata": {},
   "outputs": [],
   "source": []
  },
  {
   "cell_type": "code",
   "execution_count": null,
   "id": "fb2177d4-aa9c-4fd6-b0d4-abf570b6a9a7",
   "metadata": {},
   "outputs": [],
   "source": []
  },
  {
   "cell_type": "code",
   "execution_count": null,
   "id": "64275829-72fc-408b-b229-ba81c418f62d",
   "metadata": {},
   "outputs": [],
   "source": []
  },
  {
   "cell_type": "code",
   "execution_count": null,
   "id": "1f4fa345-8f5f-4bd8-a1bc-2b8d266ba0be",
   "metadata": {},
   "outputs": [],
   "source": []
  },
  {
   "cell_type": "code",
   "execution_count": null,
   "id": "ae9c86a6-d11b-4861-b315-ff9325e489c2",
   "metadata": {},
   "outputs": [],
   "source": []
  },
  {
   "cell_type": "code",
   "execution_count": null,
   "id": "54b23865-39e0-430a-9888-e853ec262207",
   "metadata": {},
   "outputs": [],
   "source": []
  },
  {
   "cell_type": "code",
   "execution_count": null,
   "id": "a8e974db-59a4-4ef4-ae17-7fad31a2f0ea",
   "metadata": {},
   "outputs": [],
   "source": []
  },
  {
   "cell_type": "code",
   "execution_count": null,
   "id": "e4a63b15-33c0-4651-ad9f-59fdcae296d3",
   "metadata": {},
   "outputs": [],
   "source": []
  },
  {
   "cell_type": "code",
   "execution_count": null,
   "id": "e36edb1e-dd59-44ab-8e7f-9d9599c89f30",
   "metadata": {},
   "outputs": [],
   "source": []
  }
 ],
 "metadata": {
  "kernelspec": {
   "display_name": "Python 3 (ipykernel)",
   "language": "python",
   "name": "python3"
  },
  "language_info": {
   "codemirror_mode": {
    "name": "ipython",
    "version": 3
   },
   "file_extension": ".py",
   "mimetype": "text/x-python",
   "name": "python",
   "nbconvert_exporter": "python",
   "pygments_lexer": "ipython3",
   "version": "3.12.5"
  }
 },
 "nbformat": 4,
 "nbformat_minor": 5
}
